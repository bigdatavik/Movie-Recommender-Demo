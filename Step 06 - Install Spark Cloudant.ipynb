{
    "nbformat_minor": 0, 
    "nbformat": 4, 
    "cells": [
        {
            "source": "This only needs to be run once against your spark service.", 
            "cell_type": "markdown", 
            "metadata": {}
        }, 
        {
            "source": "import sys.process._\n\nval HOME = sys.env(\"HOME\")\nval DESTDIR = s\"${HOME}/data/libs/scala-2.10\"\n\ns\"test -d ${DESTDIR}\" #|| s\"mkdir -p ${DESTDIR}\" !\ns\"wget -q -c -O ${DESTDIR}/cloudant-spark-v1.6.4-167.jar https://github.com/cloudant-labs/spark-cloudant/releases/download/v1.6.4/cloudant-spark-v1.6.4-167.jar\" !\ns\"ls ${DESTDIR}/\" !", 
            "execution_count": 2, 
            "outputs": [
                {
                    "output_type": "stream", 
                    "text": "cloudant-spark-v1.6.4-167.jar\n", 
                    "name": "stdout"
                }
            ], 
            "cell_type": "code", 
            "metadata": {
                "scrolled": true, 
                "collapsed": false
            }
        }, 
        {
            "source": "After running the above code, restart the kernel", 
            "cell_type": "markdown", 
            "metadata": {}
        }, 
        {
            "source": "", 
            "execution_count": null, 
            "outputs": [], 
            "cell_type": "code", 
            "metadata": {
                "collapsed": true
            }
        }
    ], 
    "metadata": {
        "kernelspec": {
            "name": "scala", 
            "display_name": "Scala 2.10 with Spark 1.6", 
            "language": "scala"
        }, 
        "language_info": {
            "name": "scala"
        }
    }
}