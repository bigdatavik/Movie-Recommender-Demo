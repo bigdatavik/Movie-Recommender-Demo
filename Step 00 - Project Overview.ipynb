{
    "nbformat_minor": 0, 
    "cells": [
        {
            "cell_type": "markdown", 
            "metadata": {}, 
            "source": "## Overview\n\n\nThe purpose of this Data Science Experience (DSX) project is to show how recommendations can be done with Apache Spark.  This project uses the http://grouplens.org/datasets/movielens/ ml-1m dataset to build a movie recommendation model using PySpark. The ml-1m dataset consists of 1 million ratings from 6000 users on 4000 movies. It was released on 2/2003.\n\nThe movielens front end application where users can rate movies is available here: https://movielens.org/. <br/>\nA screenshot of the movielens user interface can be seen below.\n\nThis demo also has a basic web application you can try out.  The web application is available here: https://movie-recommend-demo.mybluemix.net\n\n\n"
        }, 
        {
            "cell_type": "markdown", 
            "metadata": {}, 
            "source": "<div style=\"text-align:center\" markdown=\"1\">\n<img src=\"https://movielens.org/images/site/main-screen.png\" width=\"50%\" style=\"float: left;\" />\n</div>"
        }, 
        {
            "cell_type": "markdown", 
            "metadata": {
                "collapsed": true
            }, 
            "source": "\n## Instructions\n\nThe project is split into a number of different notebooks that focus on specific steps.\n\n\n#### Step 1 - Exploratory analysis\n\nIn this notebook, we perform some basic exploratory analysis of the ml-1m dataset before we jump into machine learning.<br>\n\n#### Step 2 - Train model\n\nHere we use Spark's Machine Learning Library (MLlib) to train a machine learning model on the data.<br>\n\n#### Step 3 - Predict ratings\n\nIn this notebook, we simulate a new user's movie ratings and then use those ratings to predice movies for them.<br>\n\n#### Step 4 - Realtime Recommendations \n\nThe Apache spark trained model is designed to be built as a batch process. This notebook we investigate how we can augment the batch generated model with ratings for new users so that we can provide recommendations without having to wait for the next batch run.<br>\n\n#### Step 5 - Setup Movie Recommendation Web App \n\nIf you haven't setup your own instance of the demo web application with Cloudant and Compose Redis, this step will walk you through that process.<br>\n\n#### Step 6 - Install Spark Cloudant\n\nIn this notebook we install the latest Spark Cloudant library to use Cloudant as a source of rating data and as a destination for the generated recommendations.<br>\n\n\n#### Step 7 - Setup Movie Recommendation Web Application\n\nIn this notebook, we walk through setting up a web application where users can rate movies and receive recommendations using the Cloudant Datastore Recommnder.<br>\n\n\n## Support\n\nIf you have any questions about this project, please contact me at <chris.snow@uk.ibm.com>\n\n\n## Credits\n\n- Thanks to University of Minnesota for allowing the movielens data to be used for this demo.\n- This site was really useful https://github.com/jadianes/spark-movie-lens\n"
        }, 
        {
            "cell_type": "code", 
            "outputs": [], 
            "source": "", 
            "execution_count": null, 
            "metadata": {
                "collapsed": true
            }
        }, 
        {
            "cell_type": "code", 
            "outputs": [], 
            "source": "", 
            "execution_count": null, 
            "metadata": {
                "collapsed": true
            }
        }
    ], 
    "metadata": {
        "kernelspec": {
            "display_name": "Python 2 with Spark 1.6", 
            "language": "python", 
            "name": "python2"
        }, 
        "language_info": {
            "version": "2.7.11", 
            "nbconvert_exporter": "python", 
            "mimetype": "text/x-python", 
            "file_extension": ".py", 
            "name": "python", 
            "pygments_lexer": "ipython2", 
            "codemirror_mode": {
                "version": 2, 
                "name": "ipython"
            }
        }
    }, 
    "nbformat": 4
}